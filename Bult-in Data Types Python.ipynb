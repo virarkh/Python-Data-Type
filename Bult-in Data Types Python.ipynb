{
 "cells": [
  {
   "cell_type": "markdown",
   "id": "cfcc2fa7",
   "metadata": {},
   "source": [
    "# Built-In Data Types Python"
   ]
  },
  {
   "cell_type": "markdown",
   "id": "68d600ad",
   "metadata": {},
   "source": [
    "## Data Type - Number\n",
    "<hr>\n",
    "Data type number is a data type that contains numbers. There are three numeric types in Python : \n",
    "<li>Int</li>\n",
    "<li>Float</li>\n",
    "<li>Complex</li>"
   ]
  },
  {
   "cell_type": "markdown",
   "id": "d8b554f8",
   "metadata": {},
   "source": [
    "### Integer\n",
    "<p></p>\n",
    "<li>Store a whole number</li>\n",
    "<li>Both positive and negative whole number</li>\n",
    "<li>Indicator in Python with <b>int</b></li>"
   ]
  },
  {
   "cell_type": "code",
   "execution_count": 13,
   "id": "142154aa",
   "metadata": {},
   "outputs": [
    {
     "name": "stdout",
     "output_type": "stream",
     "text": [
      "2022\n"
     ]
    },
    {
     "data": {
      "text/plain": [
       "int"
      ]
     },
     "execution_count": 13,
     "metadata": {},
     "output_type": "execute_result"
    }
   ],
   "source": [
    "year = 2022\n",
    "\n",
    "# display value stored in the year variable\n",
    "print(year)\n",
    "\n",
    "# check the year data type\n",
    "type(year)"
   ]
  },
  {
   "cell_type": "code",
   "execution_count": 15,
   "id": "52df068d",
   "metadata": {},
   "outputs": [
    {
     "name": "stdout",
     "output_type": "stream",
     "text": [
      "7\n"
     ]
    },
    {
     "data": {
      "text/plain": [
       "int"
      ]
     },
     "execution_count": 15,
     "metadata": {},
     "output_type": "execute_result"
    }
   ],
   "source": [
    "date = 7\n",
    "\n",
    "# display value stored in the date variable\n",
    "print(date)\n",
    "\n",
    "# check the date data type\n",
    "type(date)"
   ]
  },
  {
   "cell_type": "markdown",
   "id": "614f9cc1",
   "metadata": {},
   "source": [
    "### Float\n",
    "<p></p>\n",
    "<li>Store decimal number</li>\n",
    "<li>Both positive and negative decimal number</li>\n",
    "<li>Store number up to 17 digits after comma (<b>.</b>)</li>\n",
    "<li>Indicator in Python with <b>float</b></li>"
   ]
  },
  {
   "cell_type": "code",
   "execution_count": 17,
   "id": "401aaa9f",
   "metadata": {},
   "outputs": [
    {
     "name": "stdout",
     "output_type": "stream",
     "text": [
      "50.5\n"
     ]
    },
    {
     "data": {
      "text/plain": [
       "float"
      ]
     },
     "execution_count": 17,
     "metadata": {},
     "output_type": "execute_result"
    }
   ],
   "source": [
    "weight = 50.5\n",
    "\n",
    "# display value stored in the weight variable\n",
    "print(weight)\n",
    "\n",
    "# check the weight data type\n",
    "type(weight)"
   ]
  },
  {
   "cell_type": "code",
   "execution_count": 18,
   "id": "edf3c90c",
   "metadata": {},
   "outputs": [
    {
     "name": "stdout",
     "output_type": "stream",
     "text": [
      "1000.34\n"
     ]
    },
    {
     "data": {
      "text/plain": [
       "float"
      ]
     },
     "execution_count": 18,
     "metadata": {},
     "output_type": "execute_result"
    }
   ],
   "source": [
    "area = 1000.34\n",
    "\n",
    "# display value stored in the area variable\n",
    "print(area)\n",
    "\n",
    "# check the area data type\n",
    "type(area)"
   ]
  },
  {
   "cell_type": "markdown",
   "id": "192ac996",
   "metadata": {},
   "source": [
    "### Complex\n",
    "<p></p>\n",
    "<li>Store imaginary number</li>\n",
    "<li>In python imaginary store with <b>j</b> character</li>\n",
    "<li>Indicator in Python with <b>complex</b></li>"
   ]
  },
  {
   "cell_type": "code",
   "execution_count": 23,
   "id": "125aeb01",
   "metadata": {},
   "outputs": [
    {
     "name": "stdout",
     "output_type": "stream",
     "text": [
      "2j\n"
     ]
    },
    {
     "data": {
      "text/plain": [
       "complex"
      ]
     },
     "execution_count": 23,
     "metadata": {},
     "output_type": "execute_result"
    }
   ],
   "source": [
    "a = 2j\n",
    "\n",
    "# display value stored in the 'a' variable\n",
    "print(a)\n",
    "\n",
    "# check the 'a' data type\n",
    "type(a)"
   ]
  },
  {
   "cell_type": "code",
   "execution_count": 24,
   "id": "ec001f9c",
   "metadata": {},
   "outputs": [
    {
     "name": "stdout",
     "output_type": "stream",
     "text": [
      "(10+2j)\n"
     ]
    },
    {
     "data": {
      "text/plain": [
       "complex"
      ]
     },
     "execution_count": 24,
     "metadata": {},
     "output_type": "execute_result"
    }
   ],
   "source": [
    "b = 10+2j\n",
    "\n",
    "# display value stored in the 'b' variable\n",
    "print(b)\n",
    "\n",
    "# check the 'b' data type\n",
    "type(b)"
   ]
  },
  {
   "cell_type": "code",
   "execution_count": 28,
   "id": "dab85720",
   "metadata": {},
   "outputs": [
    {
     "name": "stdout",
     "output_type": "stream",
     "text": [
      "2j + (10+2j) = (10+4j)\n"
     ]
    },
    {
     "data": {
      "text/plain": [
       "complex"
      ]
     },
     "execution_count": 28,
     "metadata": {},
     "output_type": "execute_result"
    }
   ],
   "source": [
    "c = a + b\n",
    "\n",
    "# display value stored in the 'c' variable\n",
    "print(a, '+', b, '=', c)\n",
    "\n",
    "# check the 'c' data type\n",
    "type(c)"
   ]
  },
  {
   "cell_type": "markdown",
   "id": "b3ea1e4d",
   "metadata": {},
   "source": [
    " "
   ]
  },
  {
   "cell_type": "markdown",
   "id": "77aa8f1a",
   "metadata": {},
   "source": [
    "## Data Type - String\n",
    "<hr>\n",
    "<li>String is a data type that stored a set of character</li>\n",
    "<li>String in python surrounded by either single quotation marks (<b>' '</b>), or double quotation marks (<b>\" \"</b>)</li>\n",
    "<li>The single and double quotation marks put at the beginning and the end set of character</li>"
   ]
  },
  {
   "cell_type": "markdown",
   "id": "80b85fea",
   "metadata": {},
   "source": [
    "### Single Line String"
   ]
  },
  {
   "cell_type": "code",
   "execution_count": 31,
   "id": "eaadfd60",
   "metadata": {},
   "outputs": [
    {
     "name": "stdout",
     "output_type": "stream",
     "text": [
      "Malang, East Java, Indonesia\n"
     ]
    },
    {
     "data": {
      "text/plain": [
       "str"
      ]
     },
     "execution_count": 31,
     "metadata": {},
     "output_type": "execute_result"
    }
   ],
   "source": [
    "# string with double quatation marks\n",
    "address  = \"Malang, East Java, Indonesia\"\n",
    "\n",
    "# display value stored in the address variable\n",
    "print(address)\n",
    "\n",
    "# check the adress data type\n",
    "type(address)"
   ]
  },
  {
   "cell_type": "code",
   "execution_count": 32,
   "id": "2a786a24",
   "metadata": {},
   "outputs": [
    {
     "name": "stdout",
     "output_type": "stream",
     "text": [
      "Ali & Ratu Ratu Queens\n"
     ]
    },
    {
     "data": {
      "text/plain": [
       "str"
      ]
     },
     "execution_count": 32,
     "metadata": {},
     "output_type": "execute_result"
    }
   ],
   "source": [
    "# string with single quatation marks\n",
    "title  = 'Ali & Ratu Ratu Queens'\n",
    "\n",
    "# display value stored in the title variable\n",
    "print(title)\n",
    "\n",
    "# check the title data type\n",
    "type(title)"
   ]
  },
  {
   "cell_type": "markdown",
   "id": "7ab4dd2f",
   "metadata": {},
   "source": [
    "### Multiline Strings\n",
    "<i>Python also can assign a multiline string to a varible by using the quotes. Either single quantation marks (<b>''' '''</b>) or double quantation marks (<b>\"\"\" \"\"\"</b>)</i>"
   ]
  },
  {
   "cell_type": "code",
   "execution_count": 35,
   "id": "25e0c1f4",
   "metadata": {},
   "outputs": [
    {
     "name": "stdout",
     "output_type": "stream",
     "text": [
      "\n",
      "Smooth like butter, pull you in like no other\n",
      "Don't need no Usher to remind me you got it bad\n",
      "Ain't no other that can sweep you up like a robber\n",
      "Straight up, I (got ya)\n",
      "Making you fall like that\n",
      "\n"
     ]
    }
   ],
   "source": [
    "# string with double quatation marks\n",
    "song_lyric = \"\"\"\n",
    "Smooth like butter, pull you in like no other\n",
    "Don't need no Usher to remind me you got it bad\n",
    "Ain't no other that can sweep you up like a robber\n",
    "Straight up, I (got ya)\n",
    "Making you fall like that\n",
    "\"\"\"\n",
    "\n",
    "# display value stored in the song_lyric variable\n",
    "print(song_lyric)"
   ]
  },
  {
   "cell_type": "code",
   "execution_count": 36,
   "id": "a9416139",
   "metadata": {},
   "outputs": [
    {
     "name": "stdout",
     "output_type": "stream",
     "text": [
      "\n",
      "Smooth like butter, pull you in like no other\n",
      "Don't need no Usher to remind me you got it bad\n",
      "Ain't no other that can sweep you up like a robber\n",
      "Straight up, I (got ya)\n",
      "Making you fall like that\n",
      "\n"
     ]
    }
   ],
   "source": [
    "# string with single quatation marks\n",
    "song_lyric2 = '''\n",
    "Smooth like butter, pull you in like no other\n",
    "Don't need no Usher to remind me you got it bad\n",
    "Ain't no other that can sweep you up like a robber\n",
    "Straight up, I (got ya)\n",
    "Making you fall like that\n",
    "'''\n",
    "\n",
    "# display value stored in the song_lyric2 variable\n",
    "print(song_lyric2)"
   ]
  },
  {
   "cell_type": "markdown",
   "id": "72e3c1dd",
   "metadata": {},
   "source": [
    "<i>Use multiline string can also added backslah with n character (<b>\\n</b>) in the sentence<i>"
   ]
  },
  {
   "cell_type": "code",
   "execution_count": 37,
   "id": "e3d2a610",
   "metadata": {},
   "outputs": [
    {
     "name": "stdout",
     "output_type": "stream",
     "text": [
      "Smooth like butter, pull you in like no other\n",
      "Don't need no Usher to remind me you got it bad\n"
     ]
    }
   ],
   "source": [
    "# string with \\n character\n",
    "song_lyric3 = '''Smooth like butter, pull you in like no other\\nDon't need no Usher to remind me you got it bad'''\n",
    "\n",
    "# display value stored in the song_lyric3 variable\n",
    "print(song_lyric3)"
   ]
  },
  {
   "cell_type": "markdown",
   "id": "195c9852",
   "metadata": {},
   "source": [
    " "
   ]
  },
  {
   "cell_type": "markdown",
   "id": "711d40c1",
   "metadata": {},
   "source": [
    " ## Data Type - Boolean\n",
    " <hr>"
   ]
  },
  {
   "cell_type": "code",
   "execution_count": 38,
   "id": "c2ac3c6e",
   "metadata": {},
   "outputs": [
    {
     "data": {
      "text/plain": [
       "False"
      ]
     },
     "execution_count": 38,
     "metadata": {},
     "output_type": "execute_result"
    }
   ],
   "source": [
    "1 > 2"
   ]
  },
  {
   "cell_type": "code",
   "execution_count": 40,
   "id": "f726c692",
   "metadata": {},
   "outputs": [
    {
     "data": {
      "text/plain": [
       "False"
      ]
     },
     "execution_count": 40,
     "metadata": {},
     "output_type": "execute_result"
    }
   ],
   "source": [
    "\"Hello\" == \"hello\""
   ]
  },
  {
   "cell_type": "code",
   "execution_count": 41,
   "id": "7488315b",
   "metadata": {},
   "outputs": [
    {
     "data": {
      "text/plain": [
       "True"
      ]
     },
     "execution_count": 41,
     "metadata": {},
     "output_type": "execute_result"
    }
   ],
   "source": [
    "10 != 20"
   ]
  },
  {
   "cell_type": "code",
   "execution_count": null,
   "id": "7eb911bd",
   "metadata": {},
   "outputs": [],
   "source": []
  }
 ],
 "metadata": {
  "kernelspec": {
   "display_name": "Python 3 (ipykernel)",
   "language": "python",
   "name": "python3"
  },
  "language_info": {
   "codemirror_mode": {
    "name": "ipython",
    "version": 3
   },
   "file_extension": ".py",
   "mimetype": "text/x-python",
   "name": "python",
   "nbconvert_exporter": "python",
   "pygments_lexer": "ipython3",
   "version": "3.9.12"
  }
 },
 "nbformat": 4,
 "nbformat_minor": 5
}
