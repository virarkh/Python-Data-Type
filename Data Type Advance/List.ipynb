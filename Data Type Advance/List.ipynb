{
 "cells": [
  {
   "cell_type": "markdown",
   "id": "5be6a9d6",
   "metadata": {},
   "source": [
    "# Python Lists\n",
    "\n",
    "List is collection of data that stored in one variable by <i>ordered sequence</i>. <br>\n",
    "List allow to <i>change</i> the data in the variable. That means that we can update, add and delete items in the list after the list is created. <br>\n",
    "List also allow to <i>stored with varios data type</i> like number, string and boolean with <i>duplicate</i> item.\n",
    "\n",
    "<b>How to create a List ?</b><br>\n",
    "List create with <i>square brackets</i> <b>[ ]</b>. <br>\n",
    "If items in the list is string, the items must to assign with <i>quotation marks</i>, either with single (<b>' '</b>) or double (<b>\" \"</b>) quotation marks. And if the items is number or boolean, no need to assign with quotation marks. <br>\n",
    "Each item <i>separated by a comma (<b>,</b>).</i>\n",
    "<br>\n",
    "##### Rule : <b>variable = [\"items_1\", \"items_2\", \"items_3\", . . . ]</b>"
   ]
  },
  {
   "cell_type": "markdown",
   "id": "25ee3e3a",
   "metadata": {},
   "source": [
    "### Example"
   ]
  },
  {
   "cell_type": "code",
   "execution_count": 1,
   "id": "5ca1d12d",
   "metadata": {},
   "outputs": [
    {
     "name": "stdout",
     "output_type": "stream",
     "text": [
      "[17, 'Agustus', 1945, 19.6, True]\n"
     ]
    },
    {
     "data": {
      "text/plain": [
       "list"
      ]
     },
     "execution_count": 1,
     "metadata": {},
     "output_type": "execute_result"
    }
   ],
   "source": [
    "this_List = [17, \"Agustus\", 1945, 19.6, True]\n",
    "\n",
    "print(this_List)\n",
    "type(this_List)"
   ]
  },
  {
   "cell_type": "code",
   "execution_count": 2,
   "id": "35e95ad6",
   "metadata": {},
   "outputs": [
    {
     "name": "stdout",
     "output_type": "stream",
     "text": [
      "['Halo', 'This is Github', 8888, False]\n"
     ]
    },
    {
     "data": {
      "text/plain": [
       "list"
      ]
     },
     "execution_count": 2,
     "metadata": {},
     "output_type": "execute_result"
    }
   ],
   "source": [
    "also_List = [\"Halo\", \"This is Github\", 8888, False]\n",
    "\n",
    "print(also_List)\n",
    "type(also_List)"
   ]
  },
  {
   "cell_type": "markdown",
   "id": "089723b0",
   "metadata": {},
   "source": [
    "<br>"
   ]
  },
  {
   "attachments": {
    "Positive-and-Negative-Indexing.jpg": {
     "image/jpeg": "[encoded data removed]"
    }
   },
   "cell_type": "markdown",
   "id": "d0945598",
   "metadata": {},
   "source": [
    "### List - Access Items\n",
    "<hr>\n",
    "List in python are the same with Array, that is, they have an index. So to access the items in the list start with 0 number.\n",
    "\n",
    "![Positive-and-Negative-Indexing.jpg](attachment:Positive-and-Negative-Indexing.jpg)"
   ]
  },
  {
   "cell_type": "code",
   "execution_count": 3,
   "id": "8f049e3e",
   "metadata": {},
   "outputs": [
    {
     "name": "stdout",
     "output_type": "stream",
     "text": [
      "[20, 'September', True, 2.2, '2022', (5+2j), True, 'Hallo', False, 27.5]\n"
     ]
    }
   ],
   "source": [
    "x = [20, \"September\", True, 2.2, \"2022\", 5+2j, 2!=3, \"Hallo\", \"Ini\" == \"ini\", 27.5]\n",
    "\n",
    "print(x)"
   ]
  },
  {
   "cell_type": "markdown",
   "id": "750c29be",
   "metadata": {},
   "source": [
    "Based on the image above that show indexing in python, the x variable which is stores the list data can be seen the index as follows:\n",
    "<li>[0] = 20</li>\n",
    "<li>[1] = \"September\"</li>\n",
    "<li>[2] = True</li>\n",
    "<li>[3] = 2.2</li>\n",
    "<li>[4] = 2022</li>\n",
    "<li>[5] = 5+2j</li>\n",
    "<li>[6] = 2!=3</li>\n",
    "<li>[7] = \"Hallo\"</li>\n",
    "<li>[8] = \"Ini\" == \"ini\"</li>\n",
    "<li>[9] = 27.5</li>\n",
    "<br>\n",
    "<li>[-1] = 27.5</li>\n",
    "<li>[-2] = \"Ini\" == \"ini\"</li>\n",
    "<li>[-3] = \"Hallo\"</li>\n",
    "<li>[-4] = 2!=3</li>\n",
    "<li>[-5] = 5+2j</li>\n",
    "<li>[-6] = 2022</li>\n",
    "<li>[-7] = 2.2</li>\n",
    "<li>[-8] = True</li>\n",
    "<li>[-9] = \"September\"</li>\n",
    "<li>[-10] = 20</li>"
   ]
  },
  {
   "cell_type": "markdown",
   "id": "2150c648",
   "metadata": {},
   "source": [
    "Python allow the slicing operator [] which can extract an item or several items that are within a certain range on sequence data types, such as <i>lists, strings and tuples</i>.\n",
    "\n",
    "<li><b>x[0]</b> it means to take the earliest element, with index 0 from list x</li>\n",
    "<li><b>x[5]</b> it means to take element with index 5 from list x.</li>\n",
    "<li><b>x[-1]</b> it means to take the last element of list x.</li>\n",
    "<li><b>x[3:5]</b> it means to take element in list x with index 3 to before index 5 (excluding elements with index 5, in this case only index 3-4).</li>\n",
    "<li><b>x[:5]</b> it means to take element in the earliest list x until before index 5 (excluding elements with index 5, in this case only index 0-4).</li>\n",
    "<li><b>x[-3:]</b> it means to take elements in list x starting at index 3 from the back to the very end.</li>\n",
    "<li><b>x[1:7:2]</b> it means to take elements in list x with index 1 to before index 7, with <i>step</i> 2 (in this case only indexes 1, 3, 5)</li>"
   ]
  },
  {
   "cell_type": "code",
   "execution_count": 4,
   "id": "9213a25c",
   "metadata": {},
   "outputs": [],
   "source": [
    "x = [20, \"September\", True, 2.2, \"2022\", 5+2j, 2!=3, \"Hallo\", \"Ini\" == \"ini\", 27.5]"
   ]
  },
  {
   "cell_type": "code",
   "execution_count": 5,
   "id": "70cbbc74",
   "metadata": {},
   "outputs": [
    {
     "name": "stdout",
     "output_type": "stream",
     "text": [
      "x[1] = September\n",
      "x[-5] = (5+2j)\n"
     ]
    }
   ],
   "source": [
    "# access element in list with 1 parameter\n",
    "print(\"x[1] =\",x[1])\n",
    "print(\"x[-5] =\",x[-5])"
   ]
  },
  {
   "cell_type": "code",
   "execution_count": 6,
   "id": "07a03b84",
   "metadata": {},
   "outputs": [
    {
     "name": "stdout",
     "output_type": "stream",
     "text": [
      "x[3:5] = [2.2, '2022']\n",
      "x[:5] = [20, 'September', True, 2.2, '2022']\n",
      "x[-5:] = [(5+2j), True, 'Hallo', False, 27.5]\n"
     ]
    }
   ],
   "source": [
    "# access element in list with 2 parameter\n",
    "print(\"x[3:5] =\",x[3:5])\n",
    "print(\"x[:5] =\",x[:5])\n",
    "print(\"x[-5:] =\",x[-5:])"
   ]
  },
  {
   "cell_type": "code",
   "execution_count": 7,
   "id": "6ca42e34",
   "metadata": {},
   "outputs": [
    {
     "name": "stdout",
     "output_type": "stream",
     "text": [
      "x[:10:3] = [20, 2.2, True, 27.5]\n",
      "x[1:7:2] = ['September', 2.2, (5+2j)]\n"
     ]
    }
   ],
   "source": [
    "# access element in list with 3 parameter\n",
    "print(\"x[:10:3] =\",x[:10:3])\n",
    "print(\"x[1:7:2] =\",x[1:7:2])"
   ]
  },
  {
   "cell_type": "markdown",
   "id": "944e2f71",
   "metadata": {},
   "source": [
    "<br>"
   ]
  },
  {
   "cell_type": "markdown",
   "id": "89d0d9bc",
   "metadata": {},
   "source": [
    "### List - Append\n",
    "<hr>\n",
    "List allows to add a single element to a list that has been created by using the <i>.append()</i> function. <br>\n",
    "rule : <b>current_list.append(\"<i>new_item</i>\")</b>"
   ]
  },
  {
   "cell_type": "code",
   "execution_count": 8,
   "id": "de95e674",
   "metadata": {},
   "outputs": [
    {
     "name": "stdout",
     "output_type": "stream",
     "text": [
      "['Appel', 2.5, 'ons', True]\n"
     ]
    }
   ],
   "source": [
    "this_append = [\"Appel\", 2.5, \"ons\", True]\n",
    "\n",
    "print(this_append)"
   ]
  },
  {
   "cell_type": "code",
   "execution_count": 9,
   "id": "c2bf9004",
   "metadata": {},
   "outputs": [
    {
     "name": "stdout",
     "output_type": "stream",
     "text": [
      "['Appel', 2.5, 'ons', True, 'Red']\n"
     ]
    }
   ],
   "source": [
    "this_append.append(\"Red\")\n",
    "\n",
    "print(this_append)"
   ]
  },
  {
   "cell_type": "code",
   "execution_count": 10,
   "id": "70a63139",
   "metadata": {},
   "outputs": [
    {
     "name": "stdout",
     "output_type": "stream",
     "text": [
      "['Appel', 2.5, 'ons', True, 'Red', 150000]\n"
     ]
    }
   ],
   "source": [
    "this_append.append(150000)\n",
    "\n",
    "print(this_append)"
   ]
  },
  {
   "cell_type": "markdown",
   "id": "6adbf5b9",
   "metadata": {},
   "source": [
    "<br>"
   ]
  },
  {
   "cell_type": "markdown",
   "id": "f746d258",
   "metadata": {},
   "source": [
    "### List - Extend\n",
    "<hr>\n",
    "The <i>extend()</i> function is the same with <i>append()</i> in that it adds a new element to an existing list. The only difference is that extend combines a list with another list. <br>\n",
    "rule : <b>current_list.extend(<i>another_list</i>)</b>"
   ]
  },
  {
   "cell_type": "code",
   "execution_count": 11,
   "id": "040a4143",
   "metadata": {},
   "outputs": [
    {
     "name": "stdout",
     "output_type": "stream",
     "text": [
      "['a', 'b', 'c']\n"
     ]
    }
   ],
   "source": [
    "this_extend = [\"a\", \"b\", \"c\"]\n",
    "\n",
    "print(this_extend)"
   ]
  },
  {
   "cell_type": "code",
   "execution_count": 12,
   "id": "6a92bd2a",
   "metadata": {},
   "outputs": [
    {
     "name": "stdout",
     "output_type": "stream",
     "text": [
      "['a', 'b', 'c', 1, 2, 3]\n"
     ]
    }
   ],
   "source": [
    "another_extend = [1, 2, 3]\n",
    "\n",
    "this_extend.extend(another_extend)\n",
    "\n",
    "print(this_extend)"
   ]
  },
  {
   "cell_type": "code",
   "execution_count": 13,
   "id": "734dbb8d",
   "metadata": {},
   "outputs": [
    {
     "name": "stdout",
     "output_type": "stream",
     "text": [
      "['a', 'b', 'c', 1, 2, 3, True, (2+5j)]\n"
     ]
    }
   ],
   "source": [
    "this_extend.extend([True, 2+5j])\n",
    "\n",
    "print(this_extend)"
   ]
  },
  {
   "cell_type": "markdown",
   "id": "87bd2ab0",
   "metadata": {},
   "source": [
    "<br>"
   ]
  },
  {
   "cell_type": "markdown",
   "id": "e70f21a5",
   "metadata": {},
   "source": [
    "### List - Length\n",
    "<hr>\n",
    "In list python, to determine how many items a list has, use the <i>len()</i> function. <br>\n",
    "pattern : <b>len(current_list)</b>"
   ]
  },
  {
   "cell_type": "code",
   "execution_count": 14,
   "id": "4d7ab2c1",
   "metadata": {},
   "outputs": [
    {
     "name": "stdout",
     "output_type": "stream",
     "text": [
      "['Appel', 2.5, 'ons', True, 'Red', 150000]\n",
      "How many items in list ?  6\n"
     ]
    }
   ],
   "source": [
    "length1 = ['Appel', 2.5, 'ons', True, 'Red', 150000]\n",
    "\n",
    "print(length1)\n",
    "print(\"How many items in list ? \",len(length1))"
   ]
  },
  {
   "cell_type": "code",
   "execution_count": 15,
   "id": "e61a89fa",
   "metadata": {},
   "outputs": [
    {
     "name": "stdout",
     "output_type": "stream",
     "text": [
      "['apple', 'banana', 'cherry', 1, 5, 7, 9, 3, 'abc', 34, True, 40, 'male']\n",
      "How many items in list ?  13\n"
     ]
    }
   ],
   "source": [
    "length2 = [\"apple\", \"banana\", \"cherry\", 1, 5, 7, 9, 3, \"abc\", 34, True, 40, \"male\"]\n",
    "\n",
    "print(length2)\n",
    "print(\"How many items in list ? \",len(length2))"
   ]
  },
  {
   "cell_type": "markdown",
   "id": "e75d4f24",
   "metadata": {},
   "source": [
    "<br>"
   ]
  },
  {
   "cell_type": "markdown",
   "id": "b325e817",
   "metadata": {},
   "source": [
    "### List - Insert\n",
    "<hr>\n",
    "To insert a list item at a specified index, use the <i>insert()</i> function. <br>\n",
    "pattern : <b>current_list.insert(index, \"<i>new_item</i>\")</b>"
   ]
  },
  {
   "cell_type": "code",
   "execution_count": 16,
   "id": "175c7539",
   "metadata": {},
   "outputs": [
    {
     "name": "stdout",
     "output_type": "stream",
     "text": [
      "Before :  ['apple', 'banana', 'cherry']\n"
     ]
    }
   ],
   "source": [
    "add_item = [\"apple\", \"banana\", \"cherry\"]\n",
    "\n",
    "# before adding new item\n",
    "print(\"Before : \",add_item)"
   ]
  },
  {
   "cell_type": "code",
   "execution_count": 17,
   "id": "60537aee",
   "metadata": {},
   "outputs": [
    {
     "name": "stdout",
     "output_type": "stream",
     "text": [
      "After :  ['apple', 'orange', 'banana', 'cherry']\n"
     ]
    }
   ],
   "source": [
    "add_item.insert(1, \"orange\")\n",
    "\n",
    "# after adding new item\n",
    "print(\"After : \",add_item)"
   ]
  },
  {
   "cell_type": "markdown",
   "id": "1913caf1",
   "metadata": {},
   "source": [
    "<br>"
   ]
  },
  {
   "cell_type": "markdown",
   "id": "3a566130",
   "metadata": {},
   "source": [
    "### List - Delete\n",
    "<hr>\n",
    "List allow to delete item in list by index with use <i>delete</i> function.<br>\n",
    "pattern : <b>del current_list[index]</b>"
   ]
  },
  {
   "cell_type": "code",
   "execution_count": 18,
   "id": "62f82687",
   "metadata": {},
   "outputs": [
    {
     "name": "stdout",
     "output_type": "stream",
     "text": [
      "Before :  ['apple', 'orange', 'banana', 'cherry']\n"
     ]
    }
   ],
   "source": [
    "del_item = ['apple', 'orange', 'banana', 'cherry']\n",
    "\n",
    "# before delete a item by index\n",
    "print(\"Before : \",del_item)"
   ]
  },
  {
   "cell_type": "code",
   "execution_count": 19,
   "id": "23b1c777",
   "metadata": {},
   "outputs": [
    {
     "name": "stdout",
     "output_type": "stream",
     "text": [
      "After :  ['apple', 'banana', 'cherry']\n"
     ]
    }
   ],
   "source": [
    "del del_item[1]\n",
    "\n",
    "# after delete a item by index\n",
    "print(\"After : \",del_item)"
   ]
  },
  {
   "cell_type": "code",
   "execution_count": 20,
   "id": "2a3dda87",
   "metadata": {},
   "outputs": [
    {
     "name": "stdout",
     "output_type": "stream",
     "text": [
      "Before :  ['Appel', 2.5, 'ons', True, 'Red', 150000]\n"
     ]
    }
   ],
   "source": [
    "length1 = ['Appel', 2.5, 'ons', True, 'Red', 150000]\n",
    "\n",
    "# before delete a item by index\n",
    "print(\"Before : \",length1)"
   ]
  },
  {
   "cell_type": "code",
   "execution_count": 21,
   "id": "13dc962f",
   "metadata": {},
   "outputs": [
    {
     "name": "stdout",
     "output_type": "stream",
     "text": [
      "After :  ['Appel', True, 'Red', 150000]\n"
     ]
    }
   ],
   "source": [
    "del length1[1:3]\n",
    "\n",
    "# after delete a item by index\n",
    "print(\"After : \",length1)"
   ]
  },
  {
   "cell_type": "markdown",
   "id": "d6df98b7",
   "metadata": {},
   "source": [
    "<br>"
   ]
  },
  {
   "cell_type": "markdown",
   "id": "d91e609e",
   "metadata": {},
   "source": [
    "### List - Remove\n",
    "<hr>\n",
    "List allow to delete item by specific value use <i>remove</i> function. If there is a duplicate value in the list, it will be deleted based on the first index. <br>\n",
    "rule : <b>current_list.remove(\"value\")</b>"
   ]
  },
  {
   "cell_type": "code",
   "execution_count": 22,
   "id": "bfee3b0d",
   "metadata": {},
   "outputs": [
    {
     "name": "stdout",
     "output_type": "stream",
     "text": [
      "Before :  ['apple', 'banana', 'cherry']\n"
     ]
    }
   ],
   "source": [
    "fruit = [\"apple\", \"banana\", \"cherry\"]\n",
    "\n",
    "# before delete a item\n",
    "print(\"Before : \",fruit)"
   ]
  },
  {
   "cell_type": "code",
   "execution_count": 23,
   "id": "9f77f939",
   "metadata": {},
   "outputs": [
    {
     "name": "stdout",
     "output_type": "stream",
     "text": [
      "After :  ['apple', 'cherry']\n"
     ]
    }
   ],
   "source": [
    "fruit.remove(\"banana\")\n",
    "\n",
    "# after delete a item\n",
    "print(\"After : \",fruit)"
   ]
  },
  {
   "cell_type": "code",
   "execution_count": 24,
   "id": "04a5d3f3",
   "metadata": {},
   "outputs": [
    {
     "name": "stdout",
     "output_type": "stream",
     "text": [
      "Before :  [1, 1, 1, 2, 3, 3, 4, 5, 6]\n"
     ]
    }
   ],
   "source": [
    "num = [1,1,1,2,3,3,4,5,6]\n",
    "\n",
    "# before delete a item\n",
    "print(\"Before : \",num)"
   ]
  },
  {
   "cell_type": "code",
   "execution_count": 25,
   "id": "7756c130",
   "metadata": {},
   "outputs": [
    {
     "name": "stdout",
     "output_type": "stream",
     "text": [
      "After :  [1, 1, 1, 2, 3, 4, 5, 6]\n"
     ]
    }
   ],
   "source": [
    "num.remove(3)\n",
    "\n",
    "# after delete a item\n",
    "print(\"After : \",num)"
   ]
  },
  {
   "cell_type": "markdown",
   "id": "f9064b2a",
   "metadata": {},
   "source": [
    "<br>"
   ]
  },
  {
   "cell_type": "markdown",
   "id": "e8c7c821",
   "metadata": {},
   "source": [
    "### List - Pop\n",
    "<hr>\n",
    "Delete the last element in the list, and display the deleted value, if not found then error.<br>\n",
    "rule : <b>current_list.pop()</b>"
   ]
  },
  {
   "cell_type": "code",
   "execution_count": 26,
   "id": "46f1e5f4",
   "metadata": {},
   "outputs": [
    {
     "name": "stdout",
     "output_type": "stream",
     "text": [
      "Before :  [15, 28.5, 'Dua Lima', 30.5, 40, 'Empat Lima', 50, (30+20j), 100, True]\n"
     ]
    }
   ],
   "source": [
    "y = [15, 28.5, \"Dua Lima\", 30.5, 40, \"Empat Lima\", 50, 30+20j, 100, True]\n",
    "\n",
    "# before delete a item\n",
    "print(\"Before : \",y)"
   ]
  },
  {
   "cell_type": "code",
   "execution_count": 27,
   "id": "e17db832",
   "metadata": {},
   "outputs": [
    {
     "name": "stdout",
     "output_type": "stream",
     "text": [
      "After :  [15, 28.5, 'Dua Lima', 30.5, 40, 'Empat Lima', 50, (30+20j), 100]\n"
     ]
    }
   ],
   "source": [
    "y.pop()\n",
    "\n",
    "# after delete a item\n",
    "print(\"After : \",y)"
   ]
  },
  {
   "cell_type": "markdown",
   "id": "476081b8",
   "metadata": {},
   "source": [
    "<br>"
   ]
  },
  {
   "cell_type": "markdown",
   "id": "5a433274",
   "metadata": {},
   "source": [
    "### List - Index\n",
    "<hr>\n",
    "Return the index of a item in the list. Display an error if it's not found.<br>\n",
    "rule : <b>current_list.index(index_in_list)</b>"
   ]
  },
  {
   "cell_type": "code",
   "execution_count": 28,
   "id": "0fd7d129",
   "metadata": {},
   "outputs": [
    {
     "name": "stdout",
     "output_type": "stream",
     "text": [
      "[15, 28.5, 'Dua Lima', 30.5, 40, 'Empat Lima', 50, (30+20j), 100, True]\n"
     ]
    }
   ],
   "source": [
    "x = [15, 28.5, \"Dua Lima\", 30.5, 40, \"Empat Lima\", 50, 30+20j, 100, True]\n",
    "\n",
    "print(x)"
   ]
  },
  {
   "cell_type": "code",
   "execution_count": 29,
   "id": "7cd55ba1",
   "metadata": {},
   "outputs": [
    {
     "data": {
      "text/plain": [
       "4"
      ]
     },
     "execution_count": 29,
     "metadata": {},
     "output_type": "execute_result"
    }
   ],
   "source": [
    "x.index(40)"
   ]
  },
  {
   "cell_type": "code",
   "execution_count": 30,
   "id": "1a979b39",
   "metadata": {},
   "outputs": [
    {
     "data": {
      "text/plain": [
       "2"
      ]
     },
     "execution_count": 30,
     "metadata": {},
     "output_type": "execute_result"
    }
   ],
   "source": [
    "x.index(\"Dua Lima\")"
   ]
  },
  {
   "cell_type": "markdown",
   "id": "61362818",
   "metadata": {},
   "source": [
    "<br>"
   ]
  },
  {
   "cell_type": "markdown",
   "id": "c562768e",
   "metadata": {},
   "source": [
    "### List - Count\n",
    "<hr>\n",
    "<i>count()</i> function use to counting the total uniqe item in list.<br>\n",
    "rule : <b>current_list.count(value)</b>"
   ]
  },
  {
   "cell_type": "code",
   "execution_count": 31,
   "id": "97c0206c",
   "metadata": {},
   "outputs": [
    {
     "name": "stdout",
     "output_type": "stream",
     "text": [
      "[1, 2, 3, 3, 3, 3, 3, 3, 4, 5, 6, 6, 7, 8, 9]\n"
     ]
    }
   ],
   "source": [
    "num = [1,2,3,3,3,3,3,3,4,5,6,6,7,8,9]\n",
    "\n",
    "print(num)"
   ]
  },
  {
   "cell_type": "code",
   "execution_count": 32,
   "id": "a16bb62f",
   "metadata": {},
   "outputs": [
    {
     "name": "stdout",
     "output_type": "stream",
     "text": [
      "How many number 3 in list ?  6\n"
     ]
    }
   ],
   "source": [
    "print(\"How many number 3 in list ? \", num.count(3))"
   ]
  },
  {
   "cell_type": "code",
   "execution_count": 33,
   "id": "41ff4c12",
   "metadata": {},
   "outputs": [
    {
     "name": "stdout",
     "output_type": "stream",
     "text": [
      "How many number 8 in list ?  1\n"
     ]
    }
   ],
   "source": [
    "print(\"How many number 8 in list ? \", num.count(8))"
   ]
  },
  {
   "cell_type": "markdown",
   "id": "d71c3e99",
   "metadata": {},
   "source": [
    "<br>"
   ]
  },
  {
   "cell_type": "markdown",
   "id": "da87c9fa",
   "metadata": {},
   "source": [
    "### List - Sort\n",
    "<hr>\n",
    "To sorting the items in list by alphabet (A - Z) can use <i>sort()</i> function. <br>\n",
    "rule : <b>current_list.sort()</b>"
   ]
  },
  {
   "cell_type": "code",
   "execution_count": 34,
   "id": "441508fb",
   "metadata": {},
   "outputs": [
    {
     "name": "stdout",
     "output_type": "stream",
     "text": [
      "Before :  ['apple', 'banana', 'cherry']\n"
     ]
    }
   ],
   "source": [
    "fruit = [\"apple\", \"banana\", \"cherry\"]\n",
    "\n",
    "# before use sort function\n",
    "print(\"Before : \",fruit)"
   ]
  },
  {
   "cell_type": "code",
   "execution_count": 35,
   "id": "e0b5eb54",
   "metadata": {},
   "outputs": [
    {
     "name": "stdout",
     "output_type": "stream",
     "text": [
      "After :  ['apple', 'banana', 'cherry']\n"
     ]
    }
   ],
   "source": [
    "fruit.sort()\n",
    "\n",
    "# after use sort function\n",
    "print(\"After : \",fruit)"
   ]
  },
  {
   "cell_type": "markdown",
   "id": "fec8d550",
   "metadata": {},
   "source": [
    "<br>"
   ]
  },
  {
   "cell_type": "markdown",
   "id": "9a37e650",
   "metadata": {},
   "source": [
    "### List - Reverse\n",
    "<hr>\n",
    "To reverse the order of the alphabet from Z to A you can use the <i>reverse</i> function. <br>\n",
    "rule : <b>current_list.reverse()</b>"
   ]
  },
  {
   "cell_type": "code",
   "execution_count": 36,
   "id": "edcf61d6",
   "metadata": {},
   "outputs": [
    {
     "name": "stdout",
     "output_type": "stream",
     "text": [
      "Before :  ['apple', 'banana', 'cherry']\n"
     ]
    }
   ],
   "source": [
    "fruit = [\"apple\", \"banana\", \"cherry\"]\n",
    "\n",
    "# before use sort function\n",
    "print(\"Before : \",fruit)"
   ]
  },
  {
   "cell_type": "code",
   "execution_count": 37,
   "id": "94d9c783",
   "metadata": {},
   "outputs": [
    {
     "name": "stdout",
     "output_type": "stream",
     "text": [
      "After :  ['cherry', 'banana', 'apple']\n"
     ]
    }
   ],
   "source": [
    "fruit.reverse()\n",
    "\n",
    "# after use reverse sort function\n",
    "print(\"After : \",fruit)"
   ]
  }
 ],
 "metadata": {
  "kernelspec": {
   "display_name": "Python 3 (ipykernel)",
   "language": "python",
   "name": "python3"
  },
  "language_info": {
   "codemirror_mode": {
    "name": "ipython",
    "version": 3
   },
   "file_extension": ".py",
   "mimetype": "text/x-python",
   "name": "python",
   "nbconvert_exporter": "python",
   "pygments_lexer": "ipython3",
   "version": "3.9.12"
  }
 },
 "nbformat": 4,
 "nbformat_minor": 5
}
