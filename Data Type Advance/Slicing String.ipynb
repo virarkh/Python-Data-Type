{
 "cells": [
  {
   "cell_type": "markdown",
   "id": "3e3c95b3",
   "metadata": {},
   "source": [
    "# Slicing"
   ]
  },
  {
   "cell_type": "markdown",
   "id": "54ab9d79",
   "metadata": {},
   "source": [
    "Slicing is used to retrieve items in a string\n",
    "Mutable (can be changed) if the entire data is changed, but immutable (cannot be changed) if only one of the string items"
   ]
  },
  {
   "cell_type": "code",
   "execution_count": 1,
   "id": "7ffb6dfe",
   "metadata": {},
   "outputs": [],
   "source": [
    "a = \"Data Science\""
   ]
  },
  {
   "cell_type": "code",
   "execution_count": 2,
   "id": "6a7b6511",
   "metadata": {},
   "outputs": [
    {
     "name": "stdout",
     "output_type": "stream",
     "text": [
      " Science\n",
      "Science\n"
     ]
    }
   ],
   "source": [
    "print(a[4:12])\n",
    "print(a[5:12])"
   ]
  },
  {
   "cell_type": "code",
   "execution_count": 3,
   "id": "5027a373",
   "metadata": {},
   "outputs": [
    {
     "ename": "TypeError",
     "evalue": "'str' object does not support item assignment",
     "output_type": "error",
     "traceback": [
      "\u001b[1;31m---------------------------------------------------------------------------\u001b[0m",
      "\u001b[1;31mTypeError\u001b[0m                                 Traceback (most recent call last)",
      "Input \u001b[1;32mIn [3]\u001b[0m, in \u001b[0;36m<cell line: 1>\u001b[1;34m()\u001b[0m\n\u001b[1;32m----> 1\u001b[0m a[\u001b[38;5;241m3\u001b[39m] \u001b[38;5;241m=\u001b[39m \u001b[38;5;124m\"\u001b[39m\u001b[38;5;124mi\u001b[39m\u001b[38;5;124m\"\u001b[39m\n",
      "\u001b[1;31mTypeError\u001b[0m: 'str' object does not support item assignment"
     ]
    }
   ],
   "source": [
    "a[3] = \"i\""
   ]
  },
  {
   "cell_type": "markdown",
   "id": "f62d0a79",
   "metadata": {},
   "source": [
    "<i>can't change because only one character in variable that will be change<i>"
   ]
  },
  {
   "cell_type": "code",
   "execution_count": null,
   "id": "50d64a3f",
   "metadata": {},
   "outputs": [],
   "source": [
    "print(a)"
   ]
  },
  {
   "cell_type": "code",
   "execution_count": null,
   "id": "8b91079b",
   "metadata": {},
   "outputs": [],
   "source": [
    "a = \"Data Engineer\""
   ]
  },
  {
   "cell_type": "code",
   "execution_count": null,
   "id": "3725ccbe",
   "metadata": {},
   "outputs": [],
   "source": [
    "print(a)"
   ]
  },
  {
   "cell_type": "markdown",
   "id": "6bc08a9c",
   "metadata": {},
   "source": [
    "<i>cant change, because a whole character in variable that will be change<i>"
   ]
  },
  {
   "cell_type": "code",
   "execution_count": null,
   "id": "172443b1",
   "metadata": {},
   "outputs": [],
   "source": [
    "this_slicing = \"\"\"\n",
    "Hello.\n",
    "Today we learn about slicing string.\n",
    "\"\"\""
   ]
  },
  {
   "cell_type": "code",
   "execution_count": null,
   "id": "b889981e",
   "metadata": {},
   "outputs": [],
   "source": [
    "print(this_slicing[7:])"
   ]
  },
  {
   "cell_type": "code",
   "execution_count": null,
   "id": "b6acfda9",
   "metadata": {},
   "outputs": [],
   "source": [
    "print(this_slicing[-8:-1])"
   ]
  },
  {
   "cell_type": "code",
   "execution_count": null,
   "id": "de23da9e",
   "metadata": {},
   "outputs": [],
   "source": [
    "print(this_slicing[5:10:2])"
   ]
  },
  {
   "cell_type": "code",
   "execution_count": null,
   "id": "3c6c008e",
   "metadata": {},
   "outputs": [],
   "source": [
    "this_slicing = \"Hallo\""
   ]
  },
  {
   "cell_type": "code",
   "execution_count": null,
   "id": "c13ab804",
   "metadata": {},
   "outputs": [],
   "source": [
    "print(this_slicing)"
   ]
  }
 ],
 "metadata": {
  "kernelspec": {
   "display_name": "Python 3 (ipykernel)",
   "language": "python",
   "name": "python3"
  },
  "language_info": {
   "codemirror_mode": {
    "name": "ipython",
    "version": 3
   },
   "file_extension": ".py",
   "mimetype": "text/x-python",
   "name": "python",
   "nbconvert_exporter": "python",
   "pygments_lexer": "ipython3",
   "version": "3.9.12"
  }
 },
 "nbformat": 4,
 "nbformat_minor": 5
}
