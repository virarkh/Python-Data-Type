{
 "cells": [
  {
   "cell_type": "markdown",
   "id": "ed77bcde",
   "metadata": {},
   "source": [
    "# Python Sets\n",
    "Set is collection of data that stored in one variable by <i>unordered</i>, thus can't be referred to by index or key.<br>\n",
    "Set items are <i>unchangeable</i>, meaning that we cannot change the items after the set has been created. But can remove items and add new items. <br>\n",
    "Set also <i>not allow duplicated</i> data. Set cannot stored two items with the same value.</br>\n",
    "But set <i>can stored various data type</i> like number, string and boolean. \n",
    "\n",
    "<b>How to Create a Set ?</b></br>\n",
    "Set create with <i>curly brackets</i> <b>{ }</b></br>\n",
    "If items in the tuple is string, the items must to assign with <i>quotation marks</i>, either with single (<b>' '</b>) or double (<b>\" \"</b>) quotation marks. And if the items is number or boolean, no need to assign with quotation marks. <br>\n",
    "Each item <i>separated by a comma (<b>,</b>).</i>\n",
    "\n",
    "##### Rule : <b>variable = {\"items_1\", \"items_2\", \"items_3\", . . . }</b>"
   ]
  },
  {
   "cell_type": "markdown",
   "id": "5b67d17a",
   "metadata": {},
   "source": [
    "### Example"
   ]
  },
  {
   "cell_type": "code",
   "execution_count": 19,
   "id": "ef25038c",
   "metadata": {},
   "outputs": [
    {
     "name": "stdout",
     "output_type": "stream",
     "text": [
      "{2, 3, 4, 5}\n"
     ]
    },
    {
     "data": {
      "text/plain": [
       "set"
      ]
     },
     "execution_count": 19,
     "metadata": {},
     "output_type": "execute_result"
    }
   ],
   "source": [
    "this_set = {5,5,4,4,4,4,5,5,5,2,2,3,3,3}\n",
    "\n",
    "print(this_set)\n",
    "type(this_set)"
   ]
  },
  {
   "cell_type": "code",
   "execution_count": 20,
   "id": "a743a96d",
   "metadata": {},
   "outputs": [
    {
     "name": "stdout",
     "output_type": "stream",
     "text": [
      "{'apple', 'cherry', 'banana'}\n"
     ]
    },
    {
     "data": {
      "text/plain": [
       "set"
      ]
     },
     "execution_count": 20,
     "metadata": {},
     "output_type": "execute_result"
    }
   ],
   "source": [
    "myset = {\"apple\", \"banana\", \"cherry\"}\n",
    "\n",
    "print(myset)\n",
    "type(myset)"
   ]
  },
  {
   "cell_type": "markdown",
   "id": "1abc4ff6",
   "metadata": {},
   "source": [
    "<br>"
   ]
  },
  {
   "cell_type": "markdown",
   "id": "fb8ec80b",
   "metadata": {},
   "source": [
    "### Set - Access Set Items\n",
    "<hr>\n",
    "Sets difference with list and tuple, they when access the items by reference the index. But in set can't reference the index. <br>"
   ]
  },
  {
   "cell_type": "code",
   "execution_count": 21,
   "id": "dec130d2",
   "metadata": {},
   "outputs": [
    {
     "name": "stdout",
     "output_type": "stream",
     "text": [
      "{1, 'apple', 2, 4, 'banana'}\n"
     ]
    }
   ],
   "source": [
    "set1 = {\"apple\", \"banana\", 1, 2, 4, True}\n",
    "\n",
    "print(set1)"
   ]
  },
  {
   "cell_type": "code",
   "execution_count": 22,
   "id": "7b842f1e",
   "metadata": {},
   "outputs": [
    {
     "ename": "TypeError",
     "evalue": "'set' object is not subscriptable",
     "output_type": "error",
     "traceback": [
      "\u001b[1;31m---------------------------------------------------------------------------\u001b[0m",
      "\u001b[1;31mTypeError\u001b[0m                                 Traceback (most recent call last)",
      "Input \u001b[1;32mIn [22]\u001b[0m, in \u001b[0;36m<cell line: 1>\u001b[1;34m()\u001b[0m\n\u001b[1;32m----> 1\u001b[0m \u001b[38;5;28mprint\u001b[39m(\u001b[43mset1\u001b[49m\u001b[43m[\u001b[49m\u001b[38;5;241;43m2\u001b[39;49m\u001b[43m]\u001b[49m)\n",
      "\u001b[1;31mTypeError\u001b[0m: 'set' object is not subscriptable"
     ]
    }
   ],
   "source": [
    "print(set1[2])"
   ]
  },
  {
   "cell_type": "markdown",
   "id": "09326edd",
   "metadata": {},
   "source": [
    "<i> set can't access the item with reference the index. </i>"
   ]
  },
  {
   "cell_type": "markdown",
   "id": "10e1cedc",
   "metadata": {},
   "source": [
    "<br>"
   ]
  },
  {
   "cell_type": "markdown",
   "id": "662284c9",
   "metadata": {},
   "source": [
    "### Set - Add Item\n",
    "<hr>\n",
    "Once a set is created, can't change its items. But allowed add new items.<br>\n",
    "rule : <b>current_set.add(\"new_item\")</b>"
   ]
  },
  {
   "cell_type": "code",
   "execution_count": 23,
   "id": "aac9c281",
   "metadata": {},
   "outputs": [
    {
     "name": "stdout",
     "output_type": "stream",
     "text": [
      "before :  {'apple', 'cherry', 'banana'}\n"
     ]
    }
   ],
   "source": [
    "fruit = {\"apple\", \"banana\", \"cherry\"}\n",
    "\n",
    "# before using add function\n",
    "print(\"before : \", fruit)"
   ]
  },
  {
   "cell_type": "code",
   "execution_count": 24,
   "id": "3e551e31",
   "metadata": {},
   "outputs": [
    {
     "name": "stdout",
     "output_type": "stream",
     "text": [
      "after :  {'apple', 'cherry', 'banana', 'kiwi'}\n"
     ]
    }
   ],
   "source": [
    "fruit.add(\"kiwi\")\n",
    "\n",
    "# after using add function\n",
    "print(\"after : \", fruit)"
   ]
  },
  {
   "cell_type": "code",
   "execution_count": 25,
   "id": "5d510085",
   "metadata": {},
   "outputs": [
    {
     "name": "stdout",
     "output_type": "stream",
     "text": [
      "before :  {'mango', 'pineapple', 'papaya'}\n"
     ]
    }
   ],
   "source": [
    "tropical = {\"pineapple\", \"mango\", \"papaya\"}\n",
    "\n",
    "# before using add function\n",
    "print(\"before : \", tropical)"
   ]
  },
  {
   "cell_type": "code",
   "execution_count": 26,
   "id": "0d2b6dae",
   "metadata": {},
   "outputs": [
    {
     "name": "stdout",
     "output_type": "stream",
     "text": [
      "after :  {'mango', 'pineapple', 'papaya', 23.5}\n"
     ]
    }
   ],
   "source": [
    "tropical.add(23.5)\n",
    "\n",
    "# after using add function\n",
    "print(\"after : \", tropical)"
   ]
  },
  {
   "cell_type": "markdown",
   "id": "f069d967",
   "metadata": {},
   "source": [
    "<br>"
   ]
  },
  {
   "cell_type": "markdown",
   "id": "ed1554aa",
   "metadata": {},
   "source": [
    "### Set - Union \n",
    "<hr>\n",
    "The <i>union()</i> method can returns a new set containing all items from one set with another set. <br>\n",
    "The <i>union()</i> will exclude any duplicate items. <br>\n",
    "rule : <b>new_variable = set1.union(set2)</b>"
   ]
  },
  {
   "cell_type": "code",
   "execution_count": 27,
   "id": "8461d467",
   "metadata": {},
   "outputs": [
    {
     "name": "stdout",
     "output_type": "stream",
     "text": [
      "{'apple', 'cherry', 'mango', 'pineapple', 'banana', 'papaya', 23.5}\n"
     ]
    }
   ],
   "source": [
    "fruit = {\"apple\", \"banana\", \"cherry\"}\n",
    "tropical = {'banana', 'pineapple', 'papaya', 'mango', 23.5}\n",
    "\n",
    "new_fruit = fruit.union(tropical)\n",
    "print(new_fruit)"
   ]
  },
  {
   "cell_type": "code",
   "execution_count": 28,
   "id": "3e42e0bd",
   "metadata": {},
   "outputs": [
    {
     "name": "stdout",
     "output_type": "stream",
     "text": [
      "{'apple', 'cherry', 4, 5, 'pineapple', 'mango', 'banana', 'papaya', 23.5}\n"
     ]
    }
   ],
   "source": [
    "num = {5,5,4,4,4}\n",
    "\n",
    "new_set = new_fruit.union(num)\n",
    "print(new_set)"
   ]
  },
  {
   "cell_type": "markdown",
   "id": "12a461a7",
   "metadata": {},
   "source": [
    "<br>"
   ]
  },
  {
   "cell_type": "markdown",
   "id": "309aafbe",
   "metadata": {},
   "source": [
    "### Set - Intersaction\n",
    "<hr>\n",
    "the <i>intersection()</i> method will return a new set, that only contains the items that are present in both sets.<br>\n",
    "rule : <b>new_variable = set1.intersaction(set2)</b>"
   ]
  },
  {
   "cell_type": "code",
   "execution_count": 29,
   "id": "94727724",
   "metadata": {},
   "outputs": [
    {
     "name": "stdout",
     "output_type": "stream",
     "text": [
      "{'banana'}\n"
     ]
    }
   ],
   "source": [
    "fruit = {\"apple\", \"banana\", \"cherry\"}\n",
    "tropical = {'banana', 'pineapple', 'papaya', 'mango', 23.5}\n",
    "\n",
    "new_fruit = fruit.intersection(tropical)\n",
    "print(new_fruit)"
   ]
  },
  {
   "cell_type": "code",
   "execution_count": 30,
   "id": "d4078313",
   "metadata": {},
   "outputs": [
    {
     "name": "stdout",
     "output_type": "stream",
     "text": [
      "{'apple'}\n"
     ]
    }
   ],
   "source": [
    "x = {\"apple\", \"banana\", \"cherry\"}\n",
    "y = {\"google\", \"microsoft\", \"apple\"}\n",
    "\n",
    "z = x.intersection(y)\n",
    "\n",
    "print(z)"
   ]
  },
  {
   "cell_type": "markdown",
   "id": "d3f7e795",
   "metadata": {},
   "source": [
    "<br>"
   ]
  },
  {
   "cell_type": "markdown",
   "id": "be3ce029",
   "metadata": {},
   "source": [
    "### Set - Remove Item\n",
    "<hr>\n",
    "To remove an item in a set, use the <i>remove()</i> function.<br>\n",
    "rule : <b>current_set.remove(\"item\")</b>"
   ]
  },
  {
   "cell_type": "code",
   "execution_count": 31,
   "id": "3a6ce473",
   "metadata": {},
   "outputs": [
    {
     "name": "stdout",
     "output_type": "stream",
     "text": [
      "before :  {'apple', 'cherry', 'banana'}\n"
     ]
    }
   ],
   "source": [
    "thisset = {\"apple\", \"banana\", \"cherry\"}\n",
    "\n",
    "# before using remove function\n",
    "print(\"before : \", thisset)"
   ]
  },
  {
   "cell_type": "code",
   "execution_count": 32,
   "id": "9436acdc",
   "metadata": {},
   "outputs": [
    {
     "name": "stdout",
     "output_type": "stream",
     "text": [
      "after :  {'apple', 'cherry'}\n"
     ]
    }
   ],
   "source": [
    "thisset.remove(\"banana\")\n",
    "\n",
    "# after using remove function\n",
    "print(\"after : \", thisset)"
   ]
  }
 ],
 "metadata": {
  "kernelspec": {
   "display_name": "Python 3 (ipykernel)",
   "language": "python",
   "name": "python3"
  },
  "language_info": {
   "codemirror_mode": {
    "name": "ipython",
    "version": 3
   },
   "file_extension": ".py",
   "mimetype": "text/x-python",
   "name": "python",
   "nbconvert_exporter": "python",
   "pygments_lexer": "ipython3",
   "version": "3.9.12"
  }
 },
 "nbformat": 4,
 "nbformat_minor": 5
}
