{
 "cells": [
  {
   "cell_type": "markdown",
   "id": "5bfc674e",
   "metadata": {},
   "source": [
    "# Python Tuples\n",
    "\n",
    "Tuple is collection of data that stored in one variable by <i>ordered sequence</i>. <br>\n",
    "Tuple <i>unchangeable</i> the data in the variable.<br>\n",
    "Tuple allow to <i>stored with varios data type</i> like number, string and boolean with <i>duplicate</i> item.<br>\n",
    "Tuple items are indexed, the first item has index [0], the second item has index [1] etc.\n",
    "\n",
    "<b>How to create a Tuple ?</b><br>\n",
    "Tuple create with <i>round brackets</i> <b>( )</b>. <br>\n",
    "If items in the tuple is string, the items must to assign with <i>quotation marks</i>, either with single (<b>' '</b>) or double (<b>\" \"</b>) quotation marks. And if the items is number or boolean, no need to assign with quotation marks. <br>\n",
    "Each item <i>separated by a comma (<b>,</b>).</i>\n",
    "<br>\n",
    "##### Rule : <b>variable = (\"items_1\", \"items_2\", \"items_3\", . . . )</b>"
   ]
  },
  {
   "cell_type": "markdown",
   "id": "5b67d17a",
   "metadata": {},
   "source": [
    "### Example"
   ]
  },
  {
   "cell_type": "code",
   "execution_count": 1,
   "id": "c31f7b21",
   "metadata": {},
   "outputs": [
    {
     "name": "stdout",
     "output_type": "stream",
     "text": [
      "('apple', 'banana')\n"
     ]
    },
    {
     "data": {
      "text/plain": [
       "tuple"
      ]
     },
     "execution_count": 1,
     "metadata": {},
     "output_type": "execute_result"
    }
   ],
   "source": [
    "this_tuple = (\"apple\", \"banana\")\n",
    "\n",
    "print(this_tuple)\n",
    "type(this_tuple)"
   ]
  },
  {
   "cell_type": "code",
   "execution_count": 2,
   "id": "a8bb56b1",
   "metadata": {},
   "outputs": [
    {
     "name": "stdout",
     "output_type": "stream",
     "text": [
      "('abc', 34, True, 40, 'male')\n"
     ]
    },
    {
     "data": {
      "text/plain": [
       "tuple"
      ]
     },
     "execution_count": 2,
     "metadata": {},
     "output_type": "execute_result"
    }
   ],
   "source": [
    "tuple_too = (\"abc\", 34, True, 40, \"male\")\n",
    "\n",
    "print(tuple_too)\n",
    "type(tuple_too)"
   ]
  },
  {
   "cell_type": "markdown",
   "id": "68080e4f",
   "metadata": {},
   "source": [
    "<br>"
   ]
  },
  {
   "cell_type": "markdown",
   "id": "a172004c",
   "metadata": {},
   "source": [
    "### Tuple - Access Tuple Items\n",
    "<hr>\n",
    "To be able access the tuple items by reference to the index number, in square brackets. <b>Remember that the first item has index 0.</b><br>\n",
    "<li><b>x[0]</b> it means to take the earliest element, with index 0 from list x</li>\n",
    "<li><b>x[5]</b> it means to take element with index 5 from list x.</li>\n",
    "<li><b>x[-1]</b> it means to take the last element of list x.</li>\n",
    "<li><b>x[3:5]</b> it means to take element in list x with index 3 to before index 5 (excluding elements with index 5, in this case only index 3-4).</li>\n",
    "<li><b>x[:5]</b> it means to take element in the earliest list x until before index 5 (excluding elements with index 5, in this case only index 0-4).</li>\n",
    "<li><b>x[-3:]</b> it means to take elements in list x starting at index 3 from the back to the very end.</li>\n",
    "<li><b>x[1:7:2]</b> it means to take elements in list x with index 1 to before index 7, with <i>step</i> 2 (in this case only indexes 1, 3, 5)</li>"
   ]
  },
  {
   "cell_type": "code",
   "execution_count": 3,
   "id": "7f33ff1b",
   "metadata": {},
   "outputs": [
    {
     "name": "stdout",
     "output_type": "stream",
     "text": [
      "('apple', 'banana', 'cherry', 1, 5, 7, 9, 3, 'abc', 34, True, 40)\n"
     ]
    }
   ],
   "source": [
    "mytuple = (\"apple\", \"banana\", \"cherry\", 1, 5, 7, 9, 3, \"abc\", 34, True, 40)\n",
    "\n",
    "print(mytuple)"
   ]
  },
  {
   "cell_type": "code",
   "execution_count": 4,
   "id": "bbb6daa0",
   "metadata": {},
   "outputs": [
    {
     "name": "stdout",
     "output_type": "stream",
     "text": [
      "mytuple[2] = cherry\n",
      "mytuple[-10] = cherry\n"
     ]
    }
   ],
   "source": [
    "# access element in list with 1 parameter\n",
    "print(\"mytuple[2] =\",mytuple[2])\n",
    "print(\"mytuple[-10] =\",mytuple[-10])"
   ]
  },
  {
   "cell_type": "code",
   "execution_count": 5,
   "id": "9aa27d1e",
   "metadata": {},
   "outputs": [
    {
     "name": "stdout",
     "output_type": "stream",
     "text": [
      "mytuple[1:9] = ('banana', 'cherry', 1, 5, 7, 9, 3, 'abc')\n",
      "mytuple[:4] = ('apple', 'banana', 'cherry', 1)\n",
      "mytuple[-4:] = ('abc', 34, True, 40)\n"
     ]
    }
   ],
   "source": [
    "# access element in list with 2 parameter\n",
    "print(\"mytuple[1:9] =\",mytuple[1:9])\n",
    "print(\"mytuple[:4] =\",mytuple[:4])\n",
    "print(\"mytuple[-4:] =\",mytuple[-4:])"
   ]
  },
  {
   "cell_type": "code",
   "execution_count": 6,
   "id": "6f1271eb",
   "metadata": {},
   "outputs": [
    {
     "name": "stdout",
     "output_type": "stream",
     "text": [
      "mytuple[:12:2] = ('apple', 'cherry', 5, 9, 'abc', True)\n",
      "mytuple[1:10:3] = ('banana', 5, 3)\n"
     ]
    }
   ],
   "source": [
    "# access element in list with 3 parameter\n",
    "print(\"mytuple[:12:2] =\",mytuple[:12:2])\n",
    "print(\"mytuple[1:10:3] =\",mytuple[1:10:3])"
   ]
  },
  {
   "cell_type": "markdown",
   "id": "37e99713",
   "metadata": {},
   "source": [
    "<br>"
   ]
  },
  {
   "cell_type": "markdown",
   "id": "9da8b4be",
   "metadata": {},
   "source": [
    "### Tuple - Join\n",
    "<hr>\n",
    "To join two or more tuple can use with \"<b>+</b>\" operator. <br>\n",
    "rule : <b>new_tuple = tuple_1 + tuple_n</b>"
   ]
  },
  {
   "cell_type": "code",
   "execution_count": 7,
   "id": "861ae046",
   "metadata": {},
   "outputs": [
    {
     "name": "stdout",
     "output_type": "stream",
     "text": [
      "tuple1 ('a', 'b', 'c')\n",
      "tuple2 (1, 2, 3)\n"
     ]
    }
   ],
   "source": [
    "tuple1 = (\"a\", \"b\" , \"c\")\n",
    "tuple2 = (1, 2, 3)\n",
    "\n",
    "# before using join tuple\n",
    "print(\"tuple1\", tuple1)\n",
    "print(\"tuple2\", tuple2)"
   ]
  },
  {
   "cell_type": "code",
   "execution_count": 8,
   "id": "bd4c35a4",
   "metadata": {},
   "outputs": [
    {
     "name": "stdout",
     "output_type": "stream",
     "text": [
      "tuple3 ('a', 'b', 'c', 1, 2, 3)\n"
     ]
    }
   ],
   "source": [
    "tuple3 = tuple1+tuple2\n",
    "\n",
    "# after using join tuple\n",
    "print(\"tuple3\", tuple3)"
   ]
  },
  {
   "cell_type": "code",
   "execution_count": 9,
   "id": "58622a61",
   "metadata": {},
   "outputs": [
    {
     "name": "stdout",
     "output_type": "stream",
     "text": [
      "fruit ('apple', 'banana', 'cherry')\n",
      "food ('rice', 'omelette', 'noodle')\n"
     ]
    }
   ],
   "source": [
    "fruit = (\"apple\", \"banana\", \"cherry\")\n",
    "food = (\"rice\", \"omelette\", \"noodle\")\n",
    "\n",
    "# before using join tuple\n",
    "print(\"fruit\", fruit)\n",
    "print(\"food\", food)"
   ]
  },
  {
   "cell_type": "code",
   "execution_count": 10,
   "id": "6efcc47f",
   "metadata": {},
   "outputs": [
    {
     "name": "stdout",
     "output_type": "stream",
     "text": [
      "tuple4 ('apple', 'banana', 'cherry', 'rice', 'omelette', 'noodle')\n"
     ]
    }
   ],
   "source": [
    "tuple4 = fruit+food\n",
    "\n",
    "# after using join tuple\n",
    "print(\"tuple4\", tuple4)"
   ]
  },
  {
   "cell_type": "markdown",
   "id": "1a0f6842",
   "metadata": {},
   "source": [
    "<br>"
   ]
  },
  {
   "cell_type": "markdown",
   "id": "113cb673",
   "metadata": {},
   "source": [
    "### Tuple - Multiply\n",
    "<hr>\n",
    "To copy all item in tuple can use \"<b>*</b>\" operator. <br>\n",
    "rule : <b>new_tuple = current_tuple * n</b>"
   ]
  },
  {
   "cell_type": "code",
   "execution_count": 11,
   "id": "ce2bda78",
   "metadata": {},
   "outputs": [
    {
     "name": "stdout",
     "output_type": "stream",
     "text": [
      "('apple', 'banana', 'cherry')\n"
     ]
    }
   ],
   "source": [
    "fruit = (\"apple\", \"banana\", \"cherry\")\n",
    "\n",
    "# before using multiply tuple\n",
    "print(fruit)"
   ]
  },
  {
   "cell_type": "code",
   "execution_count": 12,
   "id": "cc28b56c",
   "metadata": {},
   "outputs": [
    {
     "name": "stdout",
     "output_type": "stream",
     "text": [
      "('apple', 'banana', 'cherry', 'apple', 'banana', 'cherry', 'apple', 'banana', 'cherry')\n"
     ]
    }
   ],
   "source": [
    "new_fruit = fruit*3\n",
    "\n",
    "# after using multiply tuple\n",
    "print(new_fruit)"
   ]
  },
  {
   "cell_type": "code",
   "execution_count": 13,
   "id": "3e21418e",
   "metadata": {},
   "outputs": [
    {
     "name": "stdout",
     "output_type": "stream",
     "text": [
      "(1, 5, 7, 9, 3)\n"
     ]
    }
   ],
   "source": [
    "num = (1, 5, 7, 9, 3)\n",
    "\n",
    "# before using multiply tuple\n",
    "print(num)"
   ]
  },
  {
   "cell_type": "code",
   "execution_count": 14,
   "id": "6f77fe71",
   "metadata": {},
   "outputs": [
    {
     "name": "stdout",
     "output_type": "stream",
     "text": [
      "(1, 5, 7, 9, 3, 1, 5, 7, 9, 3, 1, 5, 7, 9, 3, 1, 5, 7, 9, 3, 1, 5, 7, 9, 3)\n"
     ]
    }
   ],
   "source": [
    "new_num = num*5\n",
    "\n",
    "# after using multiply tuple\n",
    "print(new_num)"
   ]
  },
  {
   "cell_type": "markdown",
   "id": "b4dbd1b9",
   "metadata": {},
   "source": [
    "<br>"
   ]
  },
  {
   "cell_type": "markdown",
   "id": "1151fd6d",
   "metadata": {},
   "source": [
    "### Tuple - Update\n",
    "<hr>\n",
    "Tuples are unchangeable, meaning that cannot change, add, or remove items once the tuple is created. But there is a workaround, with <i>convert the tuple into a list, change the list, and convert the list back into a tuple.</i>"
   ]
  },
  {
   "cell_type": "code",
   "execution_count": 15,
   "id": "67531286",
   "metadata": {},
   "outputs": [
    {
     "name": "stdout",
     "output_type": "stream",
     "text": [
      "('apple', 'banana', 'cherry')\n"
     ]
    },
    {
     "data": {
      "text/plain": [
       "tuple"
      ]
     },
     "execution_count": 15,
     "metadata": {},
     "output_type": "execute_result"
    }
   ],
   "source": [
    "x = (\"apple\", \"banana\", \"cherry\")\n",
    "\n",
    "# print tuple\n",
    "print(x)\n",
    "type(x)"
   ]
  },
  {
   "cell_type": "code",
   "execution_count": 16,
   "id": "df5d85fe",
   "metadata": {},
   "outputs": [
    {
     "name": "stdout",
     "output_type": "stream",
     "text": [
      "['apple', 'banana', 'cherry']\n"
     ]
    },
    {
     "data": {
      "text/plain": [
       "list"
      ]
     },
     "execution_count": 16,
     "metadata": {},
     "output_type": "execute_result"
    }
   ],
   "source": [
    "# convert to list\n",
    "y = list(x)\n",
    "\n",
    "# print(list)\n",
    "print(y)\n",
    "type(y)"
   ]
  },
  {
   "cell_type": "code",
   "execution_count": 17,
   "id": "0c101af3",
   "metadata": {},
   "outputs": [
    {
     "name": "stdout",
     "output_type": "stream",
     "text": [
      "['apple', 'watermelon', 'cherry']\n"
     ]
    }
   ],
   "source": [
    "# change item\n",
    "y[1] = \"watermelon\"\n",
    "\n",
    "print(y)"
   ]
  },
  {
   "cell_type": "code",
   "execution_count": 18,
   "id": "1c50414d",
   "metadata": {},
   "outputs": [
    {
     "name": "stdout",
     "output_type": "stream",
     "text": [
      "('apple', 'watermelon', 'cherry')\n"
     ]
    },
    {
     "data": {
      "text/plain": [
       "tuple"
      ]
     },
     "execution_count": 18,
     "metadata": {},
     "output_type": "execute_result"
    }
   ],
   "source": [
    "# convert again to tuple\n",
    "x = tuple(y)\n",
    "\n",
    "print(x)\n",
    "type(x)"
   ]
  },
  {
   "cell_type": "code",
   "execution_count": 19,
   "id": "4ad9e45a",
   "metadata": {},
   "outputs": [
    {
     "name": "stdout",
     "output_type": "stream",
     "text": [
      "('apple', 'banana', 'cherry', 'orange')\n"
     ]
    }
   ],
   "source": [
    "# can also convert with append\n",
    "thistuple = (\"apple\", \"banana\", \"cherry\")\n",
    "y = list(thistuple)\n",
    "y.append(\"orange\")\n",
    "thistuple = tuple(y)\n",
    "\n",
    "print(thistuple)"
   ]
  },
  {
   "cell_type": "markdown",
   "id": "86bda836",
   "metadata": {},
   "source": [
    "<br>"
   ]
  },
  {
   "cell_type": "markdown",
   "id": "131fd0d0",
   "metadata": {},
   "source": [
    "### Tuple - Length\n",
    "<hr>\n",
    "Like with list, tuple can also calculate how many total item that stored in tuple with use <i>len()</i> operator.<br>\n",
    "rule : <b>len(current_tuple)</b>"
   ]
  },
  {
   "cell_type": "code",
   "execution_count": 20,
   "id": "729ac62e",
   "metadata": {},
   "outputs": [
    {
     "data": {
      "text/plain": [
       "25"
      ]
     },
     "execution_count": 20,
     "metadata": {},
     "output_type": "execute_result"
    }
   ],
   "source": [
    "num = (1, 5, 7, 9, 3, 1, 5, 7, 9, 3, 1, 5, 7, 9, 3, 1, 5, 7, 9, 3, 1, 5, 7, 9, 3)\n",
    "\n",
    "len(num)"
   ]
  },
  {
   "cell_type": "code",
   "execution_count": 21,
   "id": "c9562925",
   "metadata": {},
   "outputs": [
    {
     "data": {
      "text/plain": [
       "8"
      ]
     },
     "execution_count": 21,
     "metadata": {},
     "output_type": "execute_result"
    }
   ],
   "source": [
    "alnum = ('banana', 'cherry', 1, 5, 7, 9, 3, 'abc')\n",
    "\n",
    "len(alnum)"
   ]
  }
 ],
 "metadata": {
  "kernelspec": {
   "display_name": "Python 3 (ipykernel)",
   "language": "python",
   "name": "python3"
  },
  "language_info": {
   "codemirror_mode": {
    "name": "ipython",
    "version": 3
   },
   "file_extension": ".py",
   "mimetype": "text/x-python",
   "name": "python",
   "nbconvert_exporter": "python",
   "pygments_lexer": "ipython3",
   "version": "3.9.12"
  }
 },
 "nbformat": 4,
 "nbformat_minor": 5
}
