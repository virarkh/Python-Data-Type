{
 "cells": [
  {
   "cell_type": "markdown",
   "id": "31b4ad19",
   "metadata": {},
   "source": [
    "# Python - Dictionary\n",
    "\n",
    "Dictionary is collection of data that stored in one variable by <i>ordered</i>. <br>\n",
    "Dictionary store the data values in <i>key:value</i> pairs.<br>\n",
    "Dictionaries are <i>changeable</i>, it means that allow to change, add or remove items after the dictionary has been created. <br>\n",
    "Dictionary <i>not allow duplicate</i> two items with the same key.<br>\n",
    "\n",
    "<b>How to Create a Dictionary ?</b>.\n",
    "<br>Dictionary create with <i>curly brackets</i> <b>{ }</b><br>\n",
    "If key or value in the dictionary is string, they must to assign with <i>quotation marks</i>, either with single (<b>' '</b>) or double (<b>\" \"</b>) quotation marks. And if the key or value is number or boolean, no need to assign with quotation marks. <br>\n",
    "Key and value <i>separated by colon (<b>,</b>)</i>.<br>\n",
    "Each item <i>separated by a comma (<b>,</b>).</i>\n",
    "\n",
    "<b> Rule : </b> variable = { <br>\n",
    "&emsp;&emsp;&emsp; \"key1\" : \"value1\", <br>\n",
    "&emsp;&emsp;&emsp; \"key2\" : \"value2\", <br>\n",
    "&emsp;&emsp;&emsp; \"key3\" : \"value3\", <br>\n",
    "&emsp;&emsp;&emsp; \"key4\" : \"value4\" <br>\n",
    "&emsp;&emsp;&emsp; }"
   ]
  },
  {
   "cell_type": "markdown",
   "id": "e5010e9b",
   "metadata": {},
   "source": [
    "### Example"
   ]
  },
  {
   "cell_type": "code",
   "execution_count": 1,
   "id": "caeabfa7",
   "metadata": {},
   "outputs": [
    {
     "name": "stdout",
     "output_type": "stream",
     "text": [
      "{'brand': 'Ford', 'electric': False, 'year': 1964, 'colors': 'red'}\n"
     ]
    }
   ],
   "source": [
    "thisdict = {\n",
    "  \"brand\": \"Ford\",\n",
    "  \"electric\": False,\n",
    "  \"year\": 1964,\n",
    "  \"colors\": \"red\"\n",
    "}\n",
    "\n",
    "print(thisdict)"
   ]
  },
  {
   "cell_type": "code",
   "execution_count": 2,
   "id": "d8885c63",
   "metadata": {},
   "outputs": [
    {
     "data": {
      "text/plain": [
       "dict"
      ]
     },
     "execution_count": 2,
     "metadata": {},
     "output_type": "execute_result"
    }
   ],
   "source": [
    "type(thisdict)"
   ]
  },
  {
   "cell_type": "markdown",
   "id": "d0a96815",
   "metadata": {},
   "source": [
    "<br>"
   ]
  },
  {
   "cell_type": "markdown",
   "id": "c18b3926",
   "metadata": {},
   "source": [
    "### Dictionary - Access Value\n",
    "<hr>\n",
    "To access the items of a dictionary by referring to its key name, inside square brackets. <br>\n",
    "rule : <b>variable[\"key\"]</b>"
   ]
  },
  {
   "cell_type": "code",
   "execution_count": 3,
   "id": "81e152db",
   "metadata": {},
   "outputs": [
    {
     "name": "stdout",
     "output_type": "stream",
     "text": [
      "False\n"
     ]
    }
   ],
   "source": [
    "thisdict = {\n",
    "  \"brand\": \"Ford\",\n",
    "  \"electric\": False,\n",
    "  \"year\": 1964,\n",
    "  \"colors\": \"red\"\n",
    "}\n",
    "\n",
    "print(thisdict['electric'])"
   ]
  },
  {
   "cell_type": "code",
   "execution_count": 4,
   "id": "b4cc31bb",
   "metadata": {},
   "outputs": [
    {
     "name": "stdout",
     "output_type": "stream",
     "text": [
      "1964\n"
     ]
    }
   ],
   "source": [
    "print(thisdict['year'])"
   ]
  },
  {
   "cell_type": "markdown",
   "id": "388e023b",
   "metadata": {},
   "source": [
    "<br>"
   ]
  },
  {
   "cell_type": "markdown",
   "id": "205f6038",
   "metadata": {},
   "source": [
    "### Dictionary - Access All Key\n",
    "<hr>\n",
    "To return a list of all the keys in the dictionary can use with <i>keys()</i> function. <br>\n",
    "rule : <b>variable.keys()</b>"
   ]
  },
  {
   "cell_type": "code",
   "execution_count": 5,
   "id": "9b9cc1bb",
   "metadata": {},
   "outputs": [
    {
     "name": "stdout",
     "output_type": "stream",
     "text": [
      "{'brand': 'Ford', 'model': 'Mustang', 'year': 1964}\n"
     ]
    }
   ],
   "source": [
    "car = {\n",
    "\"brand\": \"Ford\",\n",
    "\"model\": \"Mustang\",\n",
    "\"year\": 1964\n",
    "}\n",
    "\n",
    "print(car)"
   ]
  },
  {
   "cell_type": "code",
   "execution_count": 6,
   "id": "8d6d8663",
   "metadata": {},
   "outputs": [
    {
     "name": "stdout",
     "output_type": "stream",
     "text": [
      "dict_keys(['brand', 'model', 'year'])\n"
     ]
    }
   ],
   "source": [
    "print(car.keys())"
   ]
  },
  {
   "cell_type": "markdown",
   "id": "dfa46628",
   "metadata": {},
   "source": [
    "<br>"
   ]
  },
  {
   "cell_type": "markdown",
   "id": "d8c4a501",
   "metadata": {},
   "source": [
    "### Dictionary - Access All Values\n",
    "<hr>\n",
    "To return a list of all the values in the dictionary can use with <i>values()</i> function. <br>\n",
    "rule : <b>variable.values()</b>"
   ]
  },
  {
   "cell_type": "code",
   "execution_count": 7,
   "id": "028f6519",
   "metadata": {},
   "outputs": [
    {
     "name": "stdout",
     "output_type": "stream",
     "text": [
      "{'brand': 'Ford', 'model': 'Mustang', 'year': 1964}\n"
     ]
    }
   ],
   "source": [
    "car = {\n",
    "\"brand\": \"Ford\",\n",
    "\"model\": \"Mustang\",\n",
    "\"year\": 1964\n",
    "}\n",
    "\n",
    "print(car)"
   ]
  },
  {
   "cell_type": "code",
   "execution_count": 8,
   "id": "6b16e426",
   "metadata": {},
   "outputs": [
    {
     "name": "stdout",
     "output_type": "stream",
     "text": [
      "dict_values(['Ford', 'Mustang', 1964])\n"
     ]
    }
   ],
   "source": [
    "print(car.values())"
   ]
  },
  {
   "cell_type": "markdown",
   "id": "5d04cdc4",
   "metadata": {},
   "source": [
    "<br>"
   ]
  },
  {
   "cell_type": "markdown",
   "id": "67bb3eed",
   "metadata": {},
   "source": [
    "### Dictionary - Add Item\n",
    "<hr>\n",
    "To adding new item in dictionary can use assign with new key and value. <br>\n",
    "rule : <b>current_dic[\"new_key\"] = \"new_value\"</b>"
   ]
  },
  {
   "cell_type": "code",
   "execution_count": 9,
   "id": "e73d64fe",
   "metadata": {},
   "outputs": [
    {
     "name": "stdout",
     "output_type": "stream",
     "text": [
      "{'brand': 'Ford', 'model': 'Mustang', 'year': 1964}\n"
     ]
    }
   ],
   "source": [
    "car = {\n",
    "\"brand\": \"Ford\",\n",
    "\"model\": \"Mustang\",\n",
    "\"year\": 1964\n",
    "}\n",
    "\n",
    "# before adding new item\n",
    "print(car)"
   ]
  },
  {
   "cell_type": "code",
   "execution_count": 10,
   "id": "2f4bb820",
   "metadata": {},
   "outputs": [
    {
     "name": "stdout",
     "output_type": "stream",
     "text": [
      "{'brand': 'Ford', 'model': 'Mustang', 'year': 1964, 'color': 'Black'}\n"
     ]
    }
   ],
   "source": [
    "car[\"color\"] = \"Black\"\n",
    "\n",
    "# after adding new item\n",
    "print(car)"
   ]
  },
  {
   "cell_type": "markdown",
   "id": "6998abb7",
   "metadata": {},
   "source": [
    "<br>"
   ]
  },
  {
   "cell_type": "markdown",
   "id": "2eb66b71",
   "metadata": {},
   "source": [
    "### Dictionary - Delete Item\n",
    "<hr>\n",
    "To remove items from a dictionary can use <i>del</i> function. <br>\n",
    "rule : <b>del current_dict[\"key\"]</b>"
   ]
  },
  {
   "cell_type": "code",
   "execution_count": 11,
   "id": "d20a5337",
   "metadata": {},
   "outputs": [
    {
     "name": "stdout",
     "output_type": "stream",
     "text": [
      "{'brand': 'Ford', 'model': 'Mustang', 'year': 1964, 'color': 'Black'}\n"
     ]
    }
   ],
   "source": [
    "car = {\n",
    "\"brand\": \"Ford\",\n",
    "\"model\": \"Mustang\",\n",
    "\"year\": 1964,\n",
    "\"color\": \"Black\"\n",
    "}\n",
    "\n",
    "# before delete item\n",
    "\n",
    "print(car)"
   ]
  },
  {
   "cell_type": "code",
   "execution_count": 12,
   "id": "b8c70ca2",
   "metadata": {},
   "outputs": [
    {
     "name": "stdout",
     "output_type": "stream",
     "text": [
      "{'brand': 'Ford', 'model': 'Mustang', 'year': 1964}\n"
     ]
    }
   ],
   "source": [
    "del car[\"color\"]\n",
    "\n",
    "# after delete item\n",
    "print(car)"
   ]
  },
  {
   "cell_type": "markdown",
   "id": "c1a54f26",
   "metadata": {},
   "source": [
    "<br>"
   ]
  },
  {
   "cell_type": "markdown",
   "id": "473c72df",
   "metadata": {},
   "source": [
    "### Dictionary - Nested\n",
    "<hr>\n",
    "A dictionary can contain dictionaries, this is called <i>nested dictionaries.</i><br>"
   ]
  },
  {
   "cell_type": "code",
   "execution_count": 13,
   "id": "f2b5286a",
   "metadata": {},
   "outputs": [],
   "source": [
    "member_team = {\n",
    "    \"member1\" : {\n",
    "        \"name\" : \"Lala\",\n",
    "        \"age\" : 12,\n",
    "        \"gender\" : \"female\"\n",
    "    },\n",
    "    \"member2\" : {\n",
    "        \"name\" : \"Lili\",\n",
    "        \"age\" : 15,\n",
    "        \"gender\" : \"female\"\n",
    "    },\n",
    "    \"member3\" : {\n",
    "        \"name\" : \"Kiko\",\n",
    "        \"age\" : 20,\n",
    "        \"gender\" : \"male\"\n",
    "    }\n",
    "}"
   ]
  },
  {
   "cell_type": "code",
   "execution_count": 14,
   "id": "82c105bb",
   "metadata": {},
   "outputs": [
    {
     "name": "stdout",
     "output_type": "stream",
     "text": [
      "{'member1': {'name': 'Lala', 'age': 12, 'gender': 'female'}, 'member2': {'name': 'Lili', 'age': 15, 'gender': 'female'}, 'member3': {'name': 'Kiko', 'age': 20, 'gender': 'male'}}\n"
     ]
    }
   ],
   "source": [
    "print(member_team)"
   ]
  },
  {
   "cell_type": "code",
   "execution_count": 15,
   "id": "5606d327",
   "metadata": {},
   "outputs": [
    {
     "name": "stdout",
     "output_type": "stream",
     "text": [
      "{'name': 'Lala', 'age': 12, 'gender': 'female'}\n"
     ]
    }
   ],
   "source": [
    "# display dict from key 'member1'\n",
    "print(member_team[\"member1\"])"
   ]
  },
  {
   "cell_type": "code",
   "execution_count": 16,
   "id": "a497c069",
   "metadata": {},
   "outputs": [
    {
     "name": "stdout",
     "output_type": "stream",
     "text": [
      "Lala\n"
     ]
    }
   ],
   "source": [
    "# display dict from key 'member1' and value 'name'\n",
    "print(member_team[\"member1\"][\"name\"])"
   ]
  },
  {
   "cell_type": "markdown",
   "id": "f8c93806",
   "metadata": {},
   "source": [
    "<b>Dictionary can create one dictionary that will contain multiple dictionaries</b>"
   ]
  },
  {
   "cell_type": "code",
   "execution_count": 17,
   "id": "0603764c",
   "metadata": {},
   "outputs": [
    {
     "name": "stdout",
     "output_type": "stream",
     "text": [
      "{'name': 'Lala', 'age': 12, 'gender': 'female'}\n"
     ]
    }
   ],
   "source": [
    "member1 = {\n",
    "    \"name\" : \"Lala\",\n",
    "    \"age\" : 12,\n",
    "    \"gender\" : \"female\"\n",
    "}\n",
    "\n",
    "print(member1)"
   ]
  },
  {
   "cell_type": "code",
   "execution_count": 18,
   "id": "1762ab16",
   "metadata": {},
   "outputs": [
    {
     "name": "stdout",
     "output_type": "stream",
     "text": [
      "{'name': 'Lili', 'age': 15, 'gender': 'female'}\n"
     ]
    }
   ],
   "source": [
    "member2 = {\n",
    "    \"name\" : \"Lili\",\n",
    "    \"age\" : 15,\n",
    "    \"gender\" : \"female\"\n",
    "}\n",
    "\n",
    "print(member2)"
   ]
  },
  {
   "cell_type": "code",
   "execution_count": 19,
   "id": "a41524a7",
   "metadata": {},
   "outputs": [
    {
     "name": "stdout",
     "output_type": "stream",
     "text": [
      "{'name': 'Kiko', 'age': 20, 'gender': 'male'}\n"
     ]
    }
   ],
   "source": [
    "member3 = {\n",
    "    \"name\" : \"Kiko\",\n",
    "    \"age\" : 20,\n",
    "    \"gender\" : \"male\"\n",
    "}\n",
    "\n",
    "print(member3)"
   ]
  },
  {
   "cell_type": "code",
   "execution_count": 20,
   "id": "ef130420",
   "metadata": {},
   "outputs": [
    {
     "name": "stdout",
     "output_type": "stream",
     "text": [
      "{'member1': {'name': 'Lala', 'age': 12, 'gender': 'female'}, 'member2': {'name': 'Lili', 'age': 15, 'gender': 'female'}, 'member3': {'name': 'Kiko', 'age': 20, 'gender': 'male'}}\n"
     ]
    }
   ],
   "source": [
    "# create new dict that contain multiple dictionary\n",
    "new_team = {\n",
    "    \"member1\" : member1,\n",
    "    \"member2\" : member2,\n",
    "    \"member3\" : member3\n",
    "}\n",
    "\n",
    "print(new_team)"
   ]
  }
 ],
 "metadata": {
  "kernelspec": {
   "display_name": "Python 3 (ipykernel)",
   "language": "python",
   "name": "python3"
  },
  "language_info": {
   "codemirror_mode": {
    "name": "ipython",
    "version": 3
   },
   "file_extension": ".py",
   "mimetype": "text/x-python",
   "name": "python",
   "nbconvert_exporter": "python",
   "pygments_lexer": "ipython3",
   "version": "3.9.12"
  }
 },
 "nbformat": 4,
 "nbformat_minor": 5
}
